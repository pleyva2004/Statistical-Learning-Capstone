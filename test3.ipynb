{
 "cells": [
  {
   "cell_type": "markdown",
   "id": "d6f4cba1",
   "metadata": {},
   "source": [
    "### Survival Analysis\n",
    "\n",
    "The survival analysis is based on the probability that the event of interest has *not* occurred at time t. A Survival function depending on time  S(t) is generally used to represent that probability.\n",
    "\n",
    "S(t)=P(T>t)\n",
    " \n",
    "\n",
    "In other words,  S(t) corresponds to the probability of survival after time  t. Here,  T corresponds to the random lifetime taken from the population. Note that  S(t) is between zero and one (inclusive), and  S(t) is a decreasing function of  t . As time grows the probability of surival dicreases"
   ]
  },
  {
   "cell_type": "markdown",
   "id": "a5adcfd6",
   "metadata": {},
   "source": [
    "### The Harzard Function\n",
    "\n",
    "The Hazard Function, is defined as the probability that the subject will experience an event of interest within a small time interval, provided that the individual has survived until the beginning of that interval. It is the instantaneous rate calculated over a time period and this rate is considered constant. It can also be considered as the risk of experiencing the event of interest at time t. It is the number of subjects experiencing an event in the interval beginning at time t divided by the product of the number of subjects surviving at time t and interval width. Since the probability of a continuous random variable to equal a particular value is zero. That’s why we consider the probability of the event happening at a particular interval of time from T till  (T+ΔT)\n",
    " . Since our goal is to find the risk of an event and we don’t want the risk to get bigger as the time interval  ΔT\n",
    "  gets bigger. Thus, in order to adjust for that, we divide the equation by  ΔT\n",
    " . This scales the equation by  ΔT\n",
    " . The equation of the Hazard Rate is given a"
   ]
  }
 ],
 "metadata": {
  "language_info": {
   "name": "python"
  }
 },
 "nbformat": 4,
 "nbformat_minor": 5
}
